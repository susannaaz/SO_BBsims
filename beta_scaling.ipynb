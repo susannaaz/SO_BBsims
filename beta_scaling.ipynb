{
 "cells": [
  {
   "cell_type": "code",
   "execution_count": null,
   "metadata": {},
   "outputs": [],
   "source": [
    "import pysm\n",
    "from pysm.nominal import models\n",
    "\n",
    "import healpy as hp\n",
    "import numpy as np\n",
    "import matplotlib.pyplot as plt"
   ]
  },
  {
   "cell_type": "markdown",
   "metadata": {},
   "source": [
    "Map parameters                                                                                                                                             "
   ]
  },
  {
   "cell_type": "code",
   "execution_count": null,
   "metadata": {},
   "outputs": [],
   "source": [
    "nside = 512 #int(len(ells)/3)\n",
    "lmax = 3*nside-1\n",
    "ells = np.arange(lmax+1)"
   ]
  },
  {
   "cell_type": "markdown",
   "metadata": {},
   "source": [
    "## Power law model \n",
    "\n",
    "#### Parameters\n",
    "Gamma (convergence)"
   ]
  },
  {
   "cell_type": "code",
   "execution_count": null,
   "metadata": {},
   "outputs": [],
   "source": [
    "gamma_beta_sync = -2.5 \n",
    "gamma_beta_dust = -3.5 "
   ]
  },
  {
   "cell_type": "markdown",
   "metadata": {},
   "source": [
    "#### Calculate power spectrum (input)"
   ]
  },
  {
   "cell_type": "code",
   "execution_count": null,
   "metadata": {},
   "outputs": [],
   "source": [
    "def powerlaw(ells, gamma):\n",
    "    c_ells = ((ells+0.001) / 80.)**gamma\n",
    "    return c_ells\n",
    "\n",
    "cl_betaSync = powerlaw(ells, gamma_beta_sync)\n",
    "cl_betaDust = powerlaw(ells, gamma_beta_dust)\n",
    "\n",
    "plt.figure()\n",
    "plt.semilogy(ells, cl_betaSync, 'b',label=\"input power spectrum\")\n",
    "plt.xlabel('$\\ell$')\n",
    "plt.ylabel('$C_\\ell$') #'$\\ell(\\ell+1) C_\\ell/2\\pi$'<br>\n",
    "plt.legend()\n",
    "plt.grid()\n",
    "plt.show()"
   ]
  },
  {
   "cell_type": "markdown",
   "metadata": {},
   "source": [
    "#### Map from power spectrum"
   ]
  },
  {
   "cell_type": "code",
   "execution_count": null,
   "metadata": {},
   "outputs": [],
   "source": [
    "def map_beta(ells, gamma):\n",
    "    cl_beta = powerlaw(ells, gamma)\n",
    "    delta_map = hp.synfast(cl_beta, nside, new=True, verbose=False)\n",
    "    sigma_map = np.sqrt(np.mean(delta_map**2))\n",
    "    sigma_des = 0.1 #desired typical map variation\n",
    "    delta_beta = delta_map * sigma_des / sigma_map\n",
    "    return delta_beta + np.mean(delta_beta)"
   ]
  },
  {
   "cell_type": "code",
   "execution_count": null,
   "metadata": {},
   "outputs": [],
   "source": [
    "map_beta_sync = map_beta(ells, gamma_beta_sync)\n",
    "map_beta_dust = map_beta(ells, gamma_beta_dust)\n",
    "\n",
    "hp.mollview(map_beta_sync, title='Scaling Index beta_sync') #unit='$\\\\beta$'\n",
    "hp.mollview(map_beta_dust, title='Scaling Index beta_dust') #unit='$\\\\beta$'\n",
    "\n",
    "plt.show()"
   ]
  },
  {
   "cell_type": "code",
   "execution_count": null,
   "metadata": {},
   "outputs": [],
   "source": [
    "map_beta_sync_fin = hp.synfast(cl_betaSync, nside, new=True, verbose=False) - map_beta_sync\n",
    "map_beta_dust_fin = hp.synfast(cl_betaDust, nside, new=True, verbose=False) - map_beta_dust"
   ]
  },
  {
   "cell_type": "markdown",
   "metadata": {},
   "source": [
    "#### Power spectrum from map (output)"
   ]
  },
  {
   "cell_type": "code",
   "execution_count": null,
   "metadata": {},
   "outputs": [],
   "source": [
    "cl_betaSync_out = hp.anafast(map_beta_sync_fin, lmax=lmax)\n",
    "\n",
    "cl_betaDust_out = hp.anafast(map_beta_dust_fin, lmax=lmax)"
   ]
  },
  {
   "cell_type": "markdown",
   "metadata": {},
   "source": [
    "#### Compare input and output power spectra"
   ]
  },
  {
   "cell_type": "code",
   "execution_count": null,
   "metadata": {},
   "outputs": [],
   "source": [
    "plt.figure()\n",
    "plt.semilogy(ells, cl_betaSync, 'b',label=\"input power spectrum sync\")\n",
    "plt.semilogy(ells, cl_betaSync_out, 'r',label=\"output power spectrum sync\")\n",
    "plt.xlabel('$\\ell$')\n",
    "plt.ylabel('$C_\\ell$')\n",
    "plt.legend()\n",
    "plt.grid()\n",
    "plt.show()"
   ]
  },
  {
   "cell_type": "code",
   "execution_count": null,
   "metadata": {},
   "outputs": [],
   "source": [
    "plt.figure()\n",
    "plt.semilogy(ells, cl_betaDust, 'b',label=\"input power spectrum dust\")\n",
    "plt.semilogy(ells, cl_betaDust_out, 'r',label=\"output power spectrum dust\")\n",
    "plt.xlabel('$\\ell$')\n",
    "plt.ylabel('$C_\\ell$')\n",
    "plt.legend()\n",
    "plt.grid()\n",
    "plt.show()"
   ]
  },
  {
   "cell_type": "code",
   "execution_count": null,
   "metadata": {},
   "outputs": [],
   "source": []
  },
  {
   "cell_type": "code",
   "execution_count": null,
   "metadata": {},
   "outputs": [],
   "source": []
  }
 ],
 "metadata": {
  "kernelspec": {
   "display_name": "Python 3",
   "language": "python",
   "name": "python3"
  },
  "language_info": {
   "codemirror_mode": {
    "name": "ipython",
    "version": 3
   },
   "file_extension": ".py",
   "mimetype": "text/x-python",
   "name": "python",
   "nbconvert_exporter": "python",
   "pygments_lexer": "ipython3",
   "version": "3.6.4"
  }
 },
 "nbformat": 4,
 "nbformat_minor": 2
}
